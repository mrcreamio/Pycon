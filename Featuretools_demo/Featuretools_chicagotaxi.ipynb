{
 "cells": [
  {
   "cell_type": "markdown",
   "metadata": {},
   "source": [
    "### Import Libraries"
   ]
  },
  {
   "cell_type": "code",
   "execution_count": 1,
   "metadata": {},
   "outputs": [],
   "source": [
    "import featuretools as ft\n",
    "import pandas as pd\n",
    "import numpy as np\n",
    "import xgboost\n",
    "from sklearn.model_selection import train_test_split\n",
    "from sklearn.metrics import mean_squared_error\n",
    "from sklearn.metrics import mean_absolute_error\n",
    "from xgboost import plot_importance\n",
    "from matplotlib import pyplot\n",
    "import warnings\n",
    "warnings.filterwarnings(\"ignore\")"
   ]
  },
  {
   "cell_type": "markdown",
   "metadata": {},
   "source": [
    "### Import dataset\n",
    "\n",
    "Source: https://data.cityofchicago.org/Transportation/Taxi-Trips/wrvz-psew"
   ]
  },
  {
   "cell_type": "code",
   "execution_count": 2,
   "metadata": {},
   "outputs": [
    {
     "data": {
      "text/html": [
       "<div>\n",
       "<style scoped>\n",
       "    .dataframe tbody tr th:only-of-type {\n",
       "        vertical-align: middle;\n",
       "    }\n",
       "\n",
       "    .dataframe tbody tr th {\n",
       "        vertical-align: top;\n",
       "    }\n",
       "\n",
       "    .dataframe thead th {\n",
       "        text-align: right;\n",
       "    }\n",
       "</style>\n",
       "<table border=\"1\" class=\"dataframe\">\n",
       "  <thead>\n",
       "    <tr style=\"text-align: right;\">\n",
       "      <th></th>\n",
       "      <th>Trip ID</th>\n",
       "      <th>Taxi ID</th>\n",
       "      <th>Trip Start Timestamp</th>\n",
       "      <th>Trip End Timestamp</th>\n",
       "      <th>Trip Seconds</th>\n",
       "      <th>Trip Miles</th>\n",
       "      <th>Pickup Census Tract</th>\n",
       "      <th>Dropoff Census Tract</th>\n",
       "      <th>Pickup Community Area</th>\n",
       "      <th>Dropoff Community Area</th>\n",
       "      <th>...</th>\n",
       "      <th>Trip Total</th>\n",
       "      <th>Payment Type</th>\n",
       "      <th>Company</th>\n",
       "      <th>Pickup Centroid Latitude</th>\n",
       "      <th>Pickup Centroid Longitude</th>\n",
       "      <th>Pickup Centroid Location</th>\n",
       "      <th>Dropoff Centroid Latitude</th>\n",
       "      <th>Dropoff Centroid Longitude</th>\n",
       "      <th>Dropoff Centroid  Location</th>\n",
       "      <th>Community Areas</th>\n",
       "    </tr>\n",
       "  </thead>\n",
       "  <tbody>\n",
       "    <tr>\n",
       "      <th>0</th>\n",
       "      <td>9cd9c0eefa2e3798b94c54e1c56ab32504b95c7b</td>\n",
       "      <td>9d5308a039a77963ed44f4b4435abd45f28eb7c4eb7669...</td>\n",
       "      <td>2014-10-20 18:00:00</td>\n",
       "      <td>2014-10-20 18:15:00</td>\n",
       "      <td>872</td>\n",
       "      <td>1.1</td>\n",
       "      <td>1.703108e+10</td>\n",
       "      <td>1.703108e+10</td>\n",
       "      <td>8.0</td>\n",
       "      <td>8.0</td>\n",
       "      <td>...</td>\n",
       "      <td>11.95</td>\n",
       "      <td>Credit Card</td>\n",
       "      <td>Flash Cab</td>\n",
       "      <td>41.898332</td>\n",
       "      <td>-87.620763</td>\n",
       "      <td>POINT (-87.6207628651 41.8983317935)</td>\n",
       "      <td>41.897984</td>\n",
       "      <td>-87.641492</td>\n",
       "      <td>POINT (-87.6414915334 41.897983898)</td>\n",
       "      <td>37</td>\n",
       "    </tr>\n",
       "    <tr>\n",
       "      <th>1</th>\n",
       "      <td>8f66c1879e23e9a98c94fd3a3ede17c7858b0868</td>\n",
       "      <td>e765f58220125689ac5ca6ff4ec6d5641fb056dc419b47...</td>\n",
       "      <td>2014-10-28 17:15:00</td>\n",
       "      <td>2014-10-28 17:15:00</td>\n",
       "      <td>322</td>\n",
       "      <td>0.5</td>\n",
       "      <td>1.703184e+10</td>\n",
       "      <td>1.703132e+10</td>\n",
       "      <td>32.0</td>\n",
       "      <td>32.0</td>\n",
       "      <td>...</td>\n",
       "      <td>5.85</td>\n",
       "      <td>Cash</td>\n",
       "      <td>Flash Cab</td>\n",
       "      <td>41.880994</td>\n",
       "      <td>-87.632746</td>\n",
       "      <td>POINT (-87.6327464887 41.8809944707)</td>\n",
       "      <td>41.884987</td>\n",
       "      <td>-87.620993</td>\n",
       "      <td>POINT (-87.6209929134 41.8849871918)</td>\n",
       "      <td>38</td>\n",
       "    </tr>\n",
       "    <tr>\n",
       "      <th>2</th>\n",
       "      <td>c6db93351720f7e3a7f6222068da86ee22b7246b</td>\n",
       "      <td>1de34714972b96b5c1ca74ac6c6d0d4b76fc90319501e2...</td>\n",
       "      <td>2014-10-27 22:45:00</td>\n",
       "      <td>2014-10-27 22:45:00</td>\n",
       "      <td>520</td>\n",
       "      <td>2.4</td>\n",
       "      <td>1.703103e+10</td>\n",
       "      <td>1.703101e+10</td>\n",
       "      <td>77.0</td>\n",
       "      <td>1.0</td>\n",
       "      <td>...</td>\n",
       "      <td>11.75</td>\n",
       "      <td>Credit Card</td>\n",
       "      <td>Flash Cab</td>\n",
       "      <td>41.979912</td>\n",
       "      <td>-87.664188</td>\n",
       "      <td>POINT (-87.6641882421 41.9799124453)</td>\n",
       "      <td>42.006279</td>\n",
       "      <td>-87.667684</td>\n",
       "      <td>POINT (-87.66768361010001 42.0062788614)</td>\n",
       "      <td>76</td>\n",
       "    </tr>\n",
       "    <tr>\n",
       "      <th>3</th>\n",
       "      <td>fa8f1e4b580b376b1f88aa68ea9fb267491babf5</td>\n",
       "      <td>84957c8960b674346784746bbc1d48cafff4976b162323...</td>\n",
       "      <td>2014-10-19 10:15:00</td>\n",
       "      <td>2014-10-19 10:30:00</td>\n",
       "      <td>764</td>\n",
       "      <td>2.6</td>\n",
       "      <td>1.703108e+10</td>\n",
       "      <td>1.703133e+10</td>\n",
       "      <td>8.0</td>\n",
       "      <td>33.0</td>\n",
       "      <td>...</td>\n",
       "      <td>13.02</td>\n",
       "      <td>Credit Card</td>\n",
       "      <td>Flash Cab</td>\n",
       "      <td>41.892508</td>\n",
       "      <td>-87.626215</td>\n",
       "      <td>POINT (-87.6262149064 41.8925077809)</td>\n",
       "      <td>41.859350</td>\n",
       "      <td>-87.617358</td>\n",
       "      <td>POINT (-87.6173580061 41.859349715)</td>\n",
       "      <td>37</td>\n",
       "    </tr>\n",
       "    <tr>\n",
       "      <th>4</th>\n",
       "      <td>337c7a4d72f7eaf77f1313e72737467346dfeac5</td>\n",
       "      <td>c0a0eb1e50aed5d6f1d68c692c7b24abd3b4aac045b107...</td>\n",
       "      <td>2014-10-29 07:00:00</td>\n",
       "      <td>2014-10-29 07:00:00</td>\n",
       "      <td>277</td>\n",
       "      <td>1.2</td>\n",
       "      <td>NaN</td>\n",
       "      <td>NaN</td>\n",
       "      <td>24.0</td>\n",
       "      <td>28.0</td>\n",
       "      <td>...</td>\n",
       "      <td>6.85</td>\n",
       "      <td>Credit Card</td>\n",
       "      <td>Flash Cab</td>\n",
       "      <td>41.901207</td>\n",
       "      <td>-87.676356</td>\n",
       "      <td>POINT (-87.6763559892 41.90120699410001)</td>\n",
       "      <td>41.874005</td>\n",
       "      <td>-87.663518</td>\n",
       "      <td>POINT (-87.6635175498 41.874005383)</td>\n",
       "      <td>25</td>\n",
       "    </tr>\n",
       "  </tbody>\n",
       "</table>\n",
       "<p>5 rows × 24 columns</p>\n",
       "</div>"
      ],
      "text/plain": [
       "                                    Trip ID  \\\n",
       "0  9cd9c0eefa2e3798b94c54e1c56ab32504b95c7b   \n",
       "1  8f66c1879e23e9a98c94fd3a3ede17c7858b0868   \n",
       "2  c6db93351720f7e3a7f6222068da86ee22b7246b   \n",
       "3  fa8f1e4b580b376b1f88aa68ea9fb267491babf5   \n",
       "4  337c7a4d72f7eaf77f1313e72737467346dfeac5   \n",
       "\n",
       "                                             Taxi ID Trip Start Timestamp  \\\n",
       "0  9d5308a039a77963ed44f4b4435abd45f28eb7c4eb7669...  2014-10-20 18:00:00   \n",
       "1  e765f58220125689ac5ca6ff4ec6d5641fb056dc419b47...  2014-10-28 17:15:00   \n",
       "2  1de34714972b96b5c1ca74ac6c6d0d4b76fc90319501e2...  2014-10-27 22:45:00   \n",
       "3  84957c8960b674346784746bbc1d48cafff4976b162323...  2014-10-19 10:15:00   \n",
       "4  c0a0eb1e50aed5d6f1d68c692c7b24abd3b4aac045b107...  2014-10-29 07:00:00   \n",
       "\n",
       "   Trip End Timestamp  Trip Seconds  Trip Miles  Pickup Census Tract  \\\n",
       "0 2014-10-20 18:15:00           872         1.1         1.703108e+10   \n",
       "1 2014-10-28 17:15:00           322         0.5         1.703184e+10   \n",
       "2 2014-10-27 22:45:00           520         2.4         1.703103e+10   \n",
       "3 2014-10-19 10:30:00           764         2.6         1.703108e+10   \n",
       "4 2014-10-29 07:00:00           277         1.2                  NaN   \n",
       "\n",
       "   Dropoff Census Tract  Pickup Community Area  Dropoff Community Area  ...  \\\n",
       "0          1.703108e+10                    8.0                     8.0  ...   \n",
       "1          1.703132e+10                   32.0                    32.0  ...   \n",
       "2          1.703101e+10                   77.0                     1.0  ...   \n",
       "3          1.703133e+10                    8.0                    33.0  ...   \n",
       "4                   NaN                   24.0                    28.0  ...   \n",
       "\n",
       "   Trip Total  Payment Type    Company  Pickup Centroid Latitude  \\\n",
       "0       11.95   Credit Card  Flash Cab                 41.898332   \n",
       "1        5.85          Cash  Flash Cab                 41.880994   \n",
       "2       11.75   Credit Card  Flash Cab                 41.979912   \n",
       "3       13.02   Credit Card  Flash Cab                 41.892508   \n",
       "4        6.85   Credit Card  Flash Cab                 41.901207   \n",
       "\n",
       "   Pickup Centroid Longitude                  Pickup Centroid Location  \\\n",
       "0                 -87.620763      POINT (-87.6207628651 41.8983317935)   \n",
       "1                 -87.632746      POINT (-87.6327464887 41.8809944707)   \n",
       "2                 -87.664188      POINT (-87.6641882421 41.9799124453)   \n",
       "3                 -87.626215      POINT (-87.6262149064 41.8925077809)   \n",
       "4                 -87.676356  POINT (-87.6763559892 41.90120699410001)   \n",
       "\n",
       "  Dropoff Centroid Latitude  Dropoff Centroid Longitude  \\\n",
       "0                 41.897984                  -87.641492   \n",
       "1                 41.884987                  -87.620993   \n",
       "2                 42.006279                  -87.667684   \n",
       "3                 41.859350                  -87.617358   \n",
       "4                 41.874005                  -87.663518   \n",
       "\n",
       "                 Dropoff Centroid  Location Community Areas  \n",
       "0       POINT (-87.6414915334 41.897983898)              37  \n",
       "1      POINT (-87.6209929134 41.8849871918)              38  \n",
       "2  POINT (-87.66768361010001 42.0062788614)              76  \n",
       "3       POINT (-87.6173580061 41.859349715)              37  \n",
       "4       POINT (-87.6635175498 41.874005383)              25  \n",
       "\n",
       "[5 rows x 24 columns]"
      ]
     },
     "execution_count": 2,
     "metadata": {},
     "output_type": "execute_result"
    }
   ],
   "source": [
    "data = pd.read_csv('Data/Taxi_Trips.csv', nrows = 10000, parse_dates = ['Trip Start Timestamp', 'Trip End Timestamp'])\n",
    "data.head()"
   ]
  },
  {
   "cell_type": "markdown",
   "metadata": {},
   "source": [
    "### Preprocssing"
   ]
  },
  {
   "cell_type": "code",
   "execution_count": 3,
   "metadata": {},
   "outputs": [],
   "source": [
    "data.drop(['Pickup Census Tract', 'Dropoff Census Tract','Tolls', 'Pickup Centroid Latitude', \n",
    "           'Pickup Centroid Longitude','Dropoff Centroid Latitude',\n",
    "           'Dropoff Centroid Longitude', 'Community Areas', \n",
    "           'Pickup Centroid Location', 'Dropoff Centroid  Location'], axis = 1, inplace = True) "
   ]
  },
  {
   "cell_type": "code",
   "execution_count": 4,
   "metadata": {},
   "outputs": [],
   "source": [
    "data.dropna(inplace = True)"
   ]
  },
  {
   "cell_type": "markdown",
   "metadata": {},
   "source": [
    "### Creating EntitySet"
   ]
  },
  {
   "cell_type": "code",
   "execution_count": 5,
   "metadata": {},
   "outputs": [],
   "source": [
    "es = ft.EntitySet(\"taxi\")"
   ]
  },
  {
   "cell_type": "code",
   "execution_count": 6,
   "metadata": {},
   "outputs": [],
   "source": [
    "import featuretools.variable_types as vtypes\n",
    "variable_types = {'Trip ID': vtypes.Categorical,\n",
    "                  'Taxi ID': vtypes.Categorical,\n",
    "                  'Pickup Community Area': vtypes.Categorical,\n",
    "                  'Dropoff Community Area': vtypes.Categorical,\n",
    "                  'Payment Type': vtypes.Categorical,\n",
    "                  'Company': vtypes.Categorical}"
   ]
  },
  {
   "cell_type": "code",
   "execution_count": 7,
   "metadata": {},
   "outputs": [
    {
     "data": {
      "text/plain": [
       "Entityset: taxi\n",
       "  Entities:\n",
       "    trips [Rows: 9756, Columns: 14]\n",
       "  Relationships:\n",
       "    No relationships"
      ]
     },
     "execution_count": 7,
     "metadata": {},
     "output_type": "execute_result"
    }
   ],
   "source": [
    "es.entity_from_dataframe(entity_id = \"trips\",\n",
    "                         dataframe = data,\n",
    "                         index = \"Trip ID\",\n",
    "                        variable_types=variable_types)"
   ]
  },
  {
   "cell_type": "markdown",
   "metadata": {},
   "source": [
    "### Adding Entities"
   ]
  },
  {
   "cell_type": "code",
   "execution_count": 8,
   "metadata": {},
   "outputs": [
    {
     "data": {
      "text/plain": [
       "Entityset: taxi\n",
       "  Entities:\n",
       "    trips [Rows: 9756, Columns: 13]\n",
       "    taxis [Rows: 648, Columns: 2]\n",
       "  Relationships:\n",
       "    trips.Taxi ID -> taxis.Taxi ID"
      ]
     },
     "execution_count": 8,
     "metadata": {},
     "output_type": "execute_result"
    }
   ],
   "source": [
    "es.normalize_entity(base_entity_id=\"trips\",\n",
    "                    new_entity_id=\"taxis\",\n",
    "                    index = \"Taxi ID\",\n",
    "                    additional_variables=['Company'])"
   ]
  },
  {
   "cell_type": "markdown",
   "metadata": {},
   "source": [
    "![](esplot.png)"
   ]
  },
  {
   "cell_type": "markdown",
   "metadata": {},
   "source": [
    "### Primitives"
   ]
  },
  {
   "cell_type": "code",
   "execution_count": 9,
   "metadata": {},
   "outputs": [],
   "source": [
    "trans_primitives = ['Minute', 'Hour', 'Day', 'Week', 'Month', 'Weekday', 'Is_weekend']\n",
    "agg_primitives = ['sum', 'std', 'max', 'skew', 'min', 'mean', 'count', 'percent_true', 'num_unique', 'mode']"
   ]
  },
  {
   "cell_type": "markdown",
   "metadata": {},
   "source": [
    "### Deep Feature Synthesis"
   ]
  },
  {
   "cell_type": "code",
   "execution_count": 10,
   "metadata": {},
   "outputs": [
    {
     "name": "stdout",
     "output_type": "stream",
     "text": [
      "Built 68 features\n",
      "Elapsed: 00:04 | Progress: 100%|███████████████████████████████████████████████████████████████████████████████████████\n"
     ]
    }
   ],
   "source": [
    "feature_matrix, features = ft.dfs(entityset = es,\n",
    "                                  target_entity = \"trips\",\n",
    "                                  trans_primitives = trans_primitives,\n",
    "                                  agg_primitives = agg_primitives,\n",
    "                                  verbose=True)"
   ]
  },
  {
   "cell_type": "code",
   "execution_count": 18,
   "metadata": {},
   "outputs": [
    {
     "data": {
      "text/plain": [
       "[<Feature: Trip Seconds>,\n",
       " <Feature: Trip Miles>,\n",
       " <Feature: Fare>,\n",
       " <Feature: Tips>,\n",
       " <Feature: Extras>,\n",
       " <Feature: Trip Total>,\n",
       " <Feature: Taxi ID>,\n",
       " <Feature: Pickup Community Area>,\n",
       " <Feature: Dropoff Community Area>,\n",
       " <Feature: Payment Type>,\n",
       " <Feature: MINUTE(Trip Start Timestamp)>,\n",
       " <Feature: MINUTE(Trip End Timestamp)>,\n",
       " <Feature: HOUR(Trip Start Timestamp)>,\n",
       " <Feature: HOUR(Trip End Timestamp)>,\n",
       " <Feature: DAY(Trip Start Timestamp)>,\n",
       " <Feature: DAY(Trip End Timestamp)>,\n",
       " <Feature: WEEK(Trip Start Timestamp)>,\n",
       " <Feature: WEEK(Trip End Timestamp)>,\n",
       " <Feature: MONTH(Trip Start Timestamp)>,\n",
       " <Feature: MONTH(Trip End Timestamp)>,\n",
       " <Feature: WEEKDAY(Trip Start Timestamp)>,\n",
       " <Feature: WEEKDAY(Trip End Timestamp)>,\n",
       " <Feature: IS_WEEKEND(Trip Start Timestamp)>,\n",
       " <Feature: IS_WEEKEND(Trip End Timestamp)>,\n",
       " <Feature: taxis.Company>,\n",
       " <Feature: taxis.SUM(trips.Trip Seconds)>,\n",
       " <Feature: taxis.SUM(trips.Trip Miles)>,\n",
       " <Feature: taxis.SUM(trips.Fare)>,\n",
       " <Feature: taxis.SUM(trips.Tips)>,\n",
       " <Feature: taxis.SUM(trips.Extras)>,\n",
       " <Feature: taxis.SUM(trips.Trip Total)>,\n",
       " <Feature: taxis.STD(trips.Trip Seconds)>,\n",
       " <Feature: taxis.STD(trips.Trip Miles)>,\n",
       " <Feature: taxis.STD(trips.Fare)>,\n",
       " <Feature: taxis.STD(trips.Tips)>,\n",
       " <Feature: taxis.STD(trips.Extras)>,\n",
       " <Feature: taxis.STD(trips.Trip Total)>,\n",
       " <Feature: taxis.MAX(trips.Trip Seconds)>,\n",
       " <Feature: taxis.MAX(trips.Trip Miles)>,\n",
       " <Feature: taxis.MAX(trips.Fare)>,\n",
       " <Feature: taxis.MAX(trips.Tips)>,\n",
       " <Feature: taxis.MAX(trips.Extras)>,\n",
       " <Feature: taxis.MAX(trips.Trip Total)>,\n",
       " <Feature: taxis.SKEW(trips.Trip Seconds)>,\n",
       " <Feature: taxis.SKEW(trips.Trip Miles)>,\n",
       " <Feature: taxis.SKEW(trips.Fare)>,\n",
       " <Feature: taxis.SKEW(trips.Tips)>,\n",
       " <Feature: taxis.SKEW(trips.Extras)>,\n",
       " <Feature: taxis.SKEW(trips.Trip Total)>,\n",
       " <Feature: taxis.MIN(trips.Trip Seconds)>,\n",
       " <Feature: taxis.MIN(trips.Trip Miles)>,\n",
       " <Feature: taxis.MIN(trips.Fare)>,\n",
       " <Feature: taxis.MIN(trips.Tips)>,\n",
       " <Feature: taxis.MIN(trips.Extras)>,\n",
       " <Feature: taxis.MIN(trips.Trip Total)>,\n",
       " <Feature: taxis.MEAN(trips.Trip Seconds)>,\n",
       " <Feature: taxis.MEAN(trips.Trip Miles)>,\n",
       " <Feature: taxis.MEAN(trips.Fare)>,\n",
       " <Feature: taxis.MEAN(trips.Tips)>,\n",
       " <Feature: taxis.MEAN(trips.Extras)>,\n",
       " <Feature: taxis.MEAN(trips.Trip Total)>,\n",
       " <Feature: taxis.COUNT(trips)>,\n",
       " <Feature: taxis.NUM_UNIQUE(trips.Pickup Community Area)>,\n",
       " <Feature: taxis.NUM_UNIQUE(trips.Dropoff Community Area)>,\n",
       " <Feature: taxis.NUM_UNIQUE(trips.Payment Type)>,\n",
       " <Feature: taxis.MODE(trips.Pickup Community Area)>,\n",
       " <Feature: taxis.MODE(trips.Dropoff Community Area)>,\n",
       " <Feature: taxis.MODE(trips.Payment Type)>]"
      ]
     },
     "execution_count": 18,
     "metadata": {},
     "output_type": "execute_result"
    }
   ],
   "source": [
    "features"
   ]
  },
  {
   "cell_type": "markdown",
   "metadata": {},
   "source": [
    "### Encoding Features"
   ]
  },
  {
   "cell_type": "code",
   "execution_count": 11,
   "metadata": {},
   "outputs": [],
   "source": [
    "feature_matrix_enc, feature_enc = ft.encode_features(feature_matrix, features)"
   ]
  },
  {
   "cell_type": "code",
   "execution_count": 12,
   "metadata": {},
   "outputs": [],
   "source": [
    "X = feature_matrix_enc.drop(['Fare'], axis=1)\n",
    "y = feature_matrix_enc['Fare']\n",
    "X_train, X_test, y_train, y_test = train_test_split(X, y, test_size=0.25)"
   ]
  },
  {
   "cell_type": "markdown",
   "metadata": {},
   "source": [
    "### Machine Learning"
   ]
  },
  {
   "cell_type": "code",
   "execution_count": 13,
   "metadata": {},
   "outputs": [
    {
     "name": "stdout",
     "output_type": "stream",
     "text": [
      "[08:32:18] WARNING: C:/Jenkins/workspace/xgboost-win64_release_0.90/src/objective/regression_obj.cu:152: reg:linear is now deprecated in favor of reg:squarederror.\n"
     ]
    },
    {
     "data": {
      "text/plain": [
       "XGBRegressor(base_score=0.5, booster='gbtree', colsample_bylevel=1,\n",
       "       colsample_bynode=1, colsample_bytree=1, gamma=0,\n",
       "       importance_type='gain', learning_rate=0.08, max_delta_step=0,\n",
       "       max_depth=3, min_child_weight=1, missing=None, n_estimators=150,\n",
       "       n_jobs=1, nthread=None, objective='reg:linear', random_state=0,\n",
       "       reg_alpha=0, reg_lambda=1, scale_pos_weight=1, seed=None,\n",
       "       silent=None, subsample=1, verbosity=1)"
      ]
     },
     "execution_count": 13,
     "metadata": {},
     "output_type": "execute_result"
    }
   ],
   "source": [
    "model = xgboost.XGBRegressor(max_depth=3, \n",
    "                             learning_rate=0.08, \n",
    "                             n_estimators=150,)\n",
    "model.fit(X_train, y_train)"
   ]
  },
  {
   "cell_type": "markdown",
   "metadata": {},
   "source": [
    "### Evaluation"
   ]
  },
  {
   "cell_type": "code",
   "execution_count": 14,
   "metadata": {},
   "outputs": [
    {
     "data": {
      "text/plain": [
       "array([12.918643 ,  5.2647576,  5.383946 , 13.155612 ,  5.823556 ,\n",
       "        8.085897 ,  5.2046614, 36.762867 , 40.025093 ,  9.931931 ],\n",
       "      dtype=float32)"
      ]
     },
     "execution_count": 14,
     "metadata": {},
     "output_type": "execute_result"
    }
   ],
   "source": [
    "y_pred = model.predict(X_test)\n",
    "y_pred[:10]"
   ]
  },
  {
   "cell_type": "code",
   "execution_count": 15,
   "metadata": {},
   "outputs": [
    {
     "name": "stdout",
     "output_type": "stream",
     "text": [
      "0.4336709563142188\n",
      "0.26118988300650375\n"
     ]
    }
   ],
   "source": [
    "print(mean_squared_error(y_test, y_pred))\n",
    "print(mean_absolute_error(y_test, y_pred))"
   ]
  },
  {
   "cell_type": "markdown",
   "metadata": {},
   "source": [
    "### Feature Importance Plot"
   ]
  },
  {
   "cell_type": "code",
   "execution_count": 16,
   "metadata": {},
   "outputs": [
    {
     "data": {
      "image/png": "[encoded data removed]",
      "text/plain": [
       "<Figure size 432x288 with 1 Axes>"
      ]
     },
     "metadata": {
      "needs_background": "light"
     },
     "output_type": "display_data"
    }
   ],
   "source": [
    "plot_importance(model, max_num_features = 20)\n",
    "pyplot.show()"
   ]
  }
 ],
 "metadata": {
  "kernelspec": {
   "display_name": "Python 3",
   "language": "python",
   "name": "python3"
  },
  "language_info": {
   "codemirror_mode": {
    "name": "ipython",
    "version": 3
   },
   "file_extension": ".py",
   "mimetype": "text/x-python",
   "name": "python",
   "nbconvert_exporter": "python",
   "pygments_lexer": "ipython3",
   "version": "3.7.3"
  }
 },
 "nbformat": 4,
 "nbformat_minor": 2
}
